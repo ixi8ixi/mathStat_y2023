{
 "cells": [
  {
   "cell_type": "markdown",
   "source": [
    "<center>Национальный исследовательский университет ИТМО<br/>Факультет информационных технологий и программирования<br/>Прикладная математика и информатика</center>\n",
    "\n",
    "## <center>Математическая статистика</center>\n",
    "### <center>Отчёт по лабораторной работе №5</center>\n",
    "\n",
    "<div style=\"text-align: right\"><b>Работу выполнили:</b><br/>Белоцерковченко Андрей M3337<br/>Смирнов Андрей M3337<br/</div>\n",
    "\n",
    "<center>Санкт-Петербург<br/>2023</center>"
   ],
   "metadata": {
    "collapsed": false
   },
   "id": "2891f95f0246a488"
  },
  {
   "cell_type": "markdown",
   "source": [
    "## Вариант 3\n",
    "\n",
    "### Задача 1"
   ],
   "metadata": {
    "collapsed": false
   },
   "id": "1edd56985dc1493d"
  },
  {
   "cell_type": "code",
   "execution_count": null,
   "id": "initial_id",
   "metadata": {
    "collapsed": true
   },
   "outputs": [],
   "source": [
    "print(\"Hello, world!\")"
   ]
  },
  {
   "cell_type": "markdown",
   "source": [
    "### Задача 2"
   ],
   "metadata": {
    "collapsed": false
   },
   "id": "f80c189ffd28e605"
  },
  {
   "cell_type": "markdown",
   "source": [
    "Проверить гипотезу о равенстве средних на каждом уровне фактора с помощью модели однофакторного дисперсионного анализа (реализовать необходимо самим)\n",
    "\n",
    "Фактор - курит/не курит (\"smoker\"), выходная переменная - ИМТ (\"bmi\")"
   ],
   "metadata": {
    "collapsed": false
   },
   "id": "16309ac5b7dabd16"
  },
  {
   "cell_type": "code",
   "execution_count": 16,
   "outputs": [],
   "source": [
    "import pandas as pd\n",
    "from statsmodels.formula.api import ols\n",
    "\n",
    "df = pd.read_csv(\"sex_bmi_smokers.csv\")\n",
    "split_val = ols(\"bmi ~ smoker\", data=df).fit()"
   ],
   "metadata": {
    "collapsed": false,
    "ExecuteTime": {
     "end_time": "2023-12-23T23:33:47.154281Z",
     "start_time": "2023-12-23T23:33:47.145386Z"
    }
   },
   "id": "e7dca94bdd643f85"
  },
  {
   "cell_type": "markdown",
   "source": [
    "### Гипотеза и проверка библиотечным методом:"
   ],
   "metadata": {
    "collapsed": false
   },
   "id": "c7fc436cfbe22873"
  },
  {
   "cell_type": "markdown",
   "source": [
    "$H_0$ - средний ИМТ равен у тех кто курит и у тех кто не курит\n",
    "$H_1$ - средний ИМТ различается у курящих и не курящих\n"
   ],
   "metadata": {
    "collapsed": false
   },
   "id": "462e1cce972e38ad"
  },
  {
   "cell_type": "code",
   "execution_count": 13,
   "outputs": [
    {
     "data": {
      "text/plain": "                sum_sq      df         F    PR(>F)\nsmoker        0.699349     1.0  0.018792  0.890985\nResidual  49719.501037  1336.0       NaN       NaN",
      "text/html": "<div>\n<style scoped>\n    .dataframe tbody tr th:only-of-type {\n        vertical-align: middle;\n    }\n\n    .dataframe tbody tr th {\n        vertical-align: top;\n    }\n\n    .dataframe thead th {\n        text-align: right;\n    }\n</style>\n<table border=\"1\" class=\"dataframe\">\n  <thead>\n    <tr style=\"text-align: right;\">\n      <th></th>\n      <th>sum_sq</th>\n      <th>df</th>\n      <th>F</th>\n      <th>PR(&gt;F)</th>\n    </tr>\n  </thead>\n  <tbody>\n    <tr>\n      <th>smoker</th>\n      <td>0.699349</td>\n      <td>1.0</td>\n      <td>0.018792</td>\n      <td>0.890985</td>\n    </tr>\n    <tr>\n      <th>Residual</th>\n      <td>49719.501037</td>\n      <td>1336.0</td>\n      <td>NaN</td>\n      <td>NaN</td>\n    </tr>\n  </tbody>\n</table>\n</div>"
     },
     "execution_count": 13,
     "metadata": {},
     "output_type": "execute_result"
    }
   ],
   "source": [
    "import statsmodels.api as sm\n",
    "\n",
    "sm.stats.anova_lm(split_val, typ=2)"
   ],
   "metadata": {
    "collapsed": false,
    "ExecuteTime": {
     "end_time": "2023-12-23T23:29:36.103545Z",
     "start_time": "2023-12-23T23:29:36.093101Z"
    }
   },
   "id": "d5e5fccf52977541"
  },
  {
   "cell_type": "markdown",
   "source": [
    "$p_value >> 0.05$, а значит можно с уверенностью сказать что $H_0$ оказалась правдивой"
   ],
   "metadata": {
    "collapsed": false
   },
   "id": "51b5f4588c1cf59c"
  },
  {
   "cell_type": "markdown",
   "source": [
    "### Своя реализация"
   ],
   "metadata": {
    "collapsed": false
   },
   "id": "6bd6c8257222db51"
  },
  {
   "cell_type": "code",
   "execution_count": 17,
   "outputs": [
    {
     "name": "stdout",
     "output_type": "stream",
     "text": [
      "  Source of Variation  Sum of Squares  Degrees of Freedom Mean Square  \\\n",
      "0      Between Groups        0.699349                   1    0.699349   \n",
      "1       Within Groups    49719.501037                1336   37.215195   \n",
      "2               Total    49720.200386                1337               \n",
      "\n",
      "  F-statistic   P-value  \n",
      "0    0.018792  0.890985  \n",
      "1                        \n",
      "2                        \n"
     ]
    }
   ],
   "source": [
    "from scipy.special import betainc\n",
    "import pandas as pd\n",
    "\n",
    "def f_cdf(x, a, b):\n",
    "    return betainc(a / 2, b / 2, a * x / (a * x + b))\n",
    "\n",
    "def anova_lm(data, dependent_variable, factor_variable):\n",
    "    # Разбиение данных на уровни фактора\n",
    "    levels = data[factor_variable].unique()\n",
    "    groups = [data[dependent_variable][data[factor_variable] == level] for level in levels]\n",
    "\n",
    "    # Общее среднее значение\n",
    "    grand_mean = data[dependent_variable].mean()\n",
    "\n",
    "    # Вычисление сумм квадратов между группами\n",
    "    ssb = sum([len(group) * (group.mean() - grand_mean)**2 for group in groups])\n",
    "\n",
    "    # Вычисление сумм квадратов внутри групп\n",
    "    ssw = sum([(value - group.mean())**2 for group in groups for value in group])\n",
    "\n",
    "    # Вычисление общей суммы квадратов\n",
    "    sst = sum((data[dependent_variable] - grand_mean)**2)\n",
    "\n",
    "    # Вычисление степеней свободы\n",
    "    dfb = len(levels) - 1\n",
    "    dfw = len(data) - len(levels)\n",
    "    dft = len(data) - 1\n",
    "\n",
    "    # Вычисление средних квадратов\n",
    "    msb = ssb / dfb\n",
    "    msw = ssw / dfw\n",
    "\n",
    "    # Вычисление F-статистики\n",
    "    f_statistic = msb / msw\n",
    "\n",
    "    # Вычисление p-значения\n",
    "    p_value = 1 - f_cdf(f_statistic, dfb, dfw)\n",
    "\n",
    "    return {\n",
    "        'Source of Variation': ['Between Groups', 'Within Groups', 'Total'],\n",
    "        'Sum of Squares': [ssb, ssw, sst],\n",
    "        'Degrees of Freedom': [dfb, dfw, dft],\n",
    "        'Mean Square': [msb, msw, ''],\n",
    "        'F-statistic': [f_statistic, '', ''],\n",
    "        'P-value': [p_value, '', '']\n",
    "    }\n",
    "\n",
    "# Применение функции anova_lm\n",
    "result = anova_lm(df, dependent_variable='bmi', factor_variable='smoker')\n",
    "\n",
    "# Вывод результатов\n",
    "result_df = pd.DataFrame(result)\n",
    "print(result_df)"
   ],
   "metadata": {
    "collapsed": false,
    "ExecuteTime": {
     "end_time": "2023-12-23T23:36:29.493739Z",
     "start_time": "2023-12-23T23:36:29.474429Z"
    }
   },
   "id": "f6c69636f9e772c6"
  },
  {
   "cell_type": "markdown",
   "source": [
    "Таким образом, собственноручно написанный нами метод дал результат $p_value$ такого же порядка и соответственно мы можем с уверенностью сказать что ИМТ не зависит от того курит человек или нет"
   ],
   "metadata": {
    "collapsed": false
   },
   "id": "8ca5efffcffa5f99"
  },
  {
   "cell_type": "code",
   "execution_count": null,
   "outputs": [],
   "source": [],
   "metadata": {
    "collapsed": false
   },
   "id": "252ee237db808ef9"
  }
 ],
 "metadata": {
  "kernelspec": {
   "display_name": "Python 3",
   "language": "python",
   "name": "python3"
  },
  "language_info": {
   "codemirror_mode": {
    "name": "ipython",
    "version": 2
   },
   "file_extension": ".py",
   "mimetype": "text/x-python",
   "name": "python",
   "nbconvert_exporter": "python",
   "pygments_lexer": "ipython2",
   "version": "2.7.6"
  }
 },
 "nbformat": 4,
 "nbformat_minor": 5
}
