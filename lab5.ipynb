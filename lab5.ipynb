{
 "cells": [
  {
   "cell_type": "markdown",
   "source": [
    "<center>Национальный исследовательский университет ИТМО<br/>Факультет информационных технологий и программирования<br/>Прикладная математика и информатика</center>\n",
    "\n",
    "## <center>Математическая статистика</center>\n",
    "### <center>Отчёт по лабораторной работе №5</center>\n",
    "\n",
    "<div style=\"text-align: right\"><b>Работу выполнили:</b><br/>Белоцерковченко Андрей M3337<br/>Смирнов Андрей M3337<br/</div>\n",
    "\n",
    "<center>Санкт-Петербург<br/>2023</center>"
   ],
   "metadata": {
    "collapsed": false
   },
   "id": "2891f95f0246a488"
  },
  {
   "cell_type": "code",
   "execution_count": 134,
   "outputs": [],
   "source": [
    "import pandas as pd\n",
    "import numpy as np\n",
    "from sklearn.linear_model import LinearRegression\n",
    "from scipy.stats import t\n",
    "from scipy.stats import f\n",
    "alpha = 0.05"
   ],
   "metadata": {
    "collapsed": false,
    "ExecuteTime": {
     "end_time": "2023-12-24T00:08:44.177003100Z",
     "start_time": "2023-12-24T00:08:43.989064400Z"
    }
   },
   "id": "147b935f985d4dd7"
  },
  {
   "cell_type": "markdown",
   "source": [
    "## Вариант 3\n",
    "\n",
    "### Задача 1\n",
    "Для начала немного обработаем датасет"
   ],
   "metadata": {
    "collapsed": false
   },
   "id": "1edd56985dc1493d"
  },
  {
   "cell_type": "code",
   "execution_count": 135,
   "id": "initial_id",
   "metadata": {
    "collapsed": true,
    "ExecuteTime": {
     "end_time": "2023-12-24T00:08:44.287668Z",
     "start_time": "2023-12-24T00:08:44.004705900Z"
    }
   },
   "outputs": [],
   "source": [
    "df = pd.read_csv('MEN_SHOES.csv')\n",
    "df = df.dropna(subset=['Current_Price'])\n",
    "Y = np.array(df['RATING'])\n",
    "df = df.drop(columns=['Brand_Name', 'Product_details', 'RATING'])\n",
    "current_price = np.array(df['Current_Price'].str[1:].str.replace(',', '').apply(np.float64))\n",
    "volume = np.array(df['How_Many_Sold'].str.replace(',', '').apply(np.float64))\n",
    "X = np.array([current_price, volume, np.ones(len(current_price))]).T"
   ]
  },
  {
   "cell_type": "markdown",
   "source": [
    "Здесь и далее: $c_0$ - стоимость пары, $c_1$ - объём продаж, $c_2$ - свободный"
   ],
   "metadata": {
    "collapsed": false
   },
   "id": "c6164f3cc3f40eec"
  },
  {
   "cell_type": "markdown",
   "source": [
    "### Оценки\n",
    "Посчитаем оценку $C$, для этого есть формула: $$\\hat{c} = A^{-1}X^TY, A = X^TX$$"
   ],
   "metadata": {
    "collapsed": false
   },
   "id": "2f0a53fc1ab38c1d"
  },
  {
   "cell_type": "code",
   "execution_count": 136,
   "outputs": [
    {
     "name": "stdout",
     "output_type": "stream",
     "text": [
      "Коэффициенты регрессии: 0.0005263263156671585 8.263894533593854e-06 3.3475715019143597\n"
     ]
    }
   ],
   "source": [
    "A = np.dot(X.T, X)\n",
    "invA = np.linalg.inv(A)\n",
    "C = np.dot(np.dot(invA, X.T), Y)\n",
    "\n",
    "n = len(current_price)\n",
    "print(\"Коэффициенты регрессии:\", C[0], C[1], C[2])"
   ],
   "metadata": {
    "collapsed": false,
    "ExecuteTime": {
     "end_time": "2023-12-24T00:08:44.287668Z",
     "start_time": "2023-12-24T00:08:44.083239400Z"
    }
   },
   "id": "bc50a27bc5cddd32"
  },
  {
   "cell_type": "markdown",
   "source": [
    "Проверим правильность коэффициентов - обучим модель из библиотеки"
   ],
   "metadata": {
    "collapsed": false
   },
   "id": "a05cfda6e1c47fd"
  },
  {
   "cell_type": "code",
   "execution_count": 137,
   "outputs": [
    {
     "name": "stdout",
     "output_type": "stream",
     "text": [
      "0.0005263263156671531 8.263894533593864e-06 3.3475715019143637\n"
     ]
    }
   ],
   "source": [
    "regression = LinearRegression().fit(X, Y)\n",
    "print(regression.coef_[0], regression.coef_[1], regression.intercept_)"
   ],
   "metadata": {
    "collapsed": false,
    "ExecuteTime": {
     "end_time": "2023-12-24T00:08:44.287668Z",
     "start_time": "2023-12-24T00:08:44.098895Z"
    }
   },
   "id": "1518ed22d5775944"
  },
  {
   "cell_type": "markdown",
   "source": [
    "Теперь посчитаем оценку остаточной дисперсии, для этого есть формула: $$\\hat{c}^2 = \\cfrac{S^2(\\hat{c})}{n - m}, S^2(\\hat{c}) = (X\\hat{c} - Y)^T(X\\hat{c} - Y)$$"
   ],
   "metadata": {
    "collapsed": false
   },
   "id": "2b7a5a69ecef455f"
  },
  {
   "cell_type": "code",
   "execution_count": 138,
   "outputs": [
    {
     "name": "stdout",
     "output_type": "stream",
     "text": [
      "0.11973197812338982\n"
     ]
    }
   ],
   "source": [
    "S = X @ C - Y\n",
    "Ssq = S.T @ S\n",
    "var = Ssq / (n - 3)\n",
    "print(var)"
   ],
   "metadata": {
    "collapsed": false,
    "ExecuteTime": {
     "end_time": "2023-12-24T00:08:44.287668Z",
     "start_time": "2023-12-24T00:08:44.114523700Z"
    }
   },
   "id": "48f5024668db859f"
  },
  {
   "cell_type": "markdown",
   "source": [
    "### Доверительные интервалы\n",
    "Мы знаем, что $$\\cfrac{\\hat{c_i} - c_i}{\\sqrt{A^{-1}_{ii}}S^2(\\hat{c})} \\sim T(n - m)$$ \n",
    "выражаем коэффициенты $$\\hat{c_i} + T_{\\alpha / 2}\\sqrt{A^{-1}_{ii}}S^2(\\hat{c}) < c_i < \\hat{c_i} + T_{ 1 - \\alpha / 2}\\sqrt{A^{-1}_{ii}}S^2(\\hat{c})$$"
   ],
   "metadata": {
    "collapsed": false
   },
   "id": "34889bd979426cae"
  },
  {
   "cell_type": "code",
   "execution_count": 139,
   "outputs": [
    {
     "name": "stdout",
     "output_type": "stream",
     "text": [
      "[0.09377809838737067, 0.0033245697964077877, 92.10941145347428]\n",
      "[-0.09272544575603636, -0.0033080420073405997, -85.41426844964556]\n"
     ]
    }
   ],
   "source": [
    "leftb = []\n",
    "rightb = []\n",
    "\n",
    "def count_borders(i):\n",
    "    leftb.append(C[i] + t.ppf(1 - alpha / 2, n - 3) * np.sqrt(invA[i][i]) * Ssq)\n",
    "    rightb.append(C[i] - t.ppf(1 - alpha / 2, n - 3) * np.sqrt(invA[i][i]) * Ssq)\n",
    "    \n",
    "for i in range(3):\n",
    "    count_borders(i)\n",
    "    \n",
    "print(leftb)\n",
    "print(rightb)"
   ],
   "metadata": {
    "collapsed": false,
    "ExecuteTime": {
     "end_time": "2023-12-24T00:08:44.303304700Z",
     "start_time": "2023-12-24T00:08:44.145759Z"
    }
   },
   "id": "bf2aa060eab81158"
  },
  {
   "cell_type": "markdown",
   "source": [
    "Теперь доверительный интервал остаточной дисперсии $$\\cfrac{S^2(\\hat{c})}{\\sigma^2} \\sim \\сhi^2(n - m)$$\n",
    "Выражаем коэффициенты $$\\cfrac{S^2(\\hat{c})}{\\сhi^2_{1 - \\alpha / 2}(n - m)} < \\sigma^2 < \\cfrac{S^2(\\hat{c})}{\\сhi^2_{\\alpha / 2}(n - m)}$$"
   ],
   "metadata": {
    "collapsed": false
   },
   "id": "c1d3e7c48f61f52d"
  },
  {
   "cell_type": "markdown",
   "source": [
    "### Коэффициент детерминации\n",
    "Величина $$R = \\cfrac{\\sum\\limits^n_{i = 1}(Y_i - \\overline{Y})(\\hat{Y_i} - \\overline{\\hat{Y}})}{\\sqrt{\\sum\\limits^n_{i = 1}(Y_i - \\overline{Y})^2\\sum\\limits^n_{i = 1}(\\hat{Y_i} - \\overline{\\hat{Y}})^2}}$$\n",
    "называется коэффициент детерминации"
   ],
   "metadata": {
    "collapsed": false
   },
   "id": "e2992e37fd2ea834"
  },
  {
   "cell_type": "code",
   "execution_count": 140,
   "outputs": [
    {
     "name": "stdout",
     "output_type": "stream",
     "text": [
      "Кщэффициент детерминации: 0.5183897365647344\n"
     ]
    }
   ],
   "source": [
    "numerator = 0\n",
    "Yhat = X @ C\n",
    "for i in range(n):\n",
    "    numerator += (Y[i] - np.mean(Y)) * (Yhat[i] - np.mean(Yhat))\n",
    "\n",
    "denom1 = 0\n",
    "for i in range(n):\n",
    "    denom1 += (Y[i] - np.mean(Y)) ** 2\n",
    "    \n",
    "denom2 = 0\n",
    "for i in range(n):\n",
    "    denom2 += (Yhat[i] - np.mean(Yhat)) ** 2\n",
    "\n",
    "R = numerator / (np.sqrt(denom1 * denom2))\n",
    "print(\"Кщэффициент детерминации:\", R)"
   ],
   "metadata": {
    "collapsed": false,
    "ExecuteTime": {
     "end_time": "2023-12-24T00:08:45.325375300Z",
     "start_time": "2023-12-24T00:08:44.161378800Z"
    }
   },
   "id": "222ff9c37a4a8f67"
  },
  {
   "cell_type": "markdown",
   "source": [
    "### Проверка гипотез\n",
    "Из лекций мы знаем, что: $$\\cfrac{\\hat{c_i} - c_i}{\\sqrt{A_{ii}^{-1}} S^2(\\hat{c})} \\sim T(n - m)$$\n",
    "\n",
    "#### Чем больше продажи - тем больше рейтинг\n",
    "$$H_0: c_1 = 0$$ $$H_1: c_1 > 0$$\n",
    "Используем T-тест - проверяем, что $T_{1 - \\alpha} < \\cfrac{\\hat{c_1}}{\\sqrt{A_{ii}^{-1}} S^2(\\hat{c})}$\n",
    "Если квантиль меньше - отвергаем $H_0$, иначе - нет"
   ],
   "metadata": {
    "collapsed": false
   },
   "id": "c3802d5e8f11233"
  },
  {
   "cell_type": "code",
   "execution_count": 141,
   "outputs": [
    {
     "name": "stdout",
     "output_type": "stream",
     "text": [
      "H0 гипотеза отвергнута: False\n"
     ]
    }
   ],
   "source": [
    "test_value = t.ppf(1 - alpha, n - 3)\n",
    "check_value = C[1] / (np.sqrt(invA[1][1]) * Ssq)\n",
    "print(\"H0 гипотеза отвергнута:\", test_value < check_value)"
   ],
   "metadata": {
    "collapsed": false,
    "ExecuteTime": {
     "end_time": "2023-12-24T00:08:45.340551900Z",
     "start_time": "2023-12-24T00:08:45.325375300Z"
    }
   },
   "id": "ce6068fb0273f4e4"
  },
  {
   "cell_type": "markdown",
   "source": [
    "#### Рейтинг зависит от цены\n",
    "$$H_0: c_0 = 0$$ $$H_1: c_0 \\neq 0$$\n",
    "Используем T-тест - проверяем, что $T_{\\cfrac{\\alpha}{2}} < \\cfrac{\\hat{c_i}}{\\sqrt{A_{ii}^{-1}} S^2(\\hat{c})} < T_{1 - \\cfrac{\\alpha}{2}}$"
   ],
   "metadata": {
    "collapsed": false
   },
   "id": "3eb987d4c2ed56c6"
  },
  {
   "cell_type": "code",
   "execution_count": 142,
   "outputs": [
    {
     "name": "stdout",
     "output_type": "stream",
     "text": [
      "H0 гипотеза отвергнута: False\n"
     ]
    }
   ],
   "source": [
    "left_test_value = t.ppf(alpha / 2, n - 3)\n",
    "right_test_value = t.ppf(1 - alpha / 2, n - 3)\n",
    "check_value = C[0] / (np.sqrt(invA[0][0]) * Ssq)\n",
    "print(\"H0 гипотеза отвергнута:\", not (left_test_value < check_value < right_test_value))"
   ],
   "metadata": {
    "collapsed": false,
    "ExecuteTime": {
     "end_time": "2023-12-24T00:08:45.419068800Z",
     "start_time": "2023-12-24T00:08:45.340551900Z"
    }
   },
   "id": "b05cba564fd5e83c"
  },
  {
   "cell_type": "markdown",
   "source": [
    "#### Равенство $c_0$ и $c_1$ нулю\n",
    "Из лекций знаем, что $$\\cfrac{n - m}{k} \\cfrac{S^2(\\hat{c_{T, t_0}}) - S^2(\\hat{c})}{S^2(\\hat{c})} \\sim F(k, n - m)$$\n",
    "\n",
    "Проверим, что $c_0 = c_1 = 0$ с помощью F-критерия. Возьмём T - единичную, с дополнительным столбцом из нулей, чтобы избавиться от свободного коэффициента. Таким образом, если величина выше больше $F_{1 - \\alpha}$ - тогда мы отвергаем $H_0$. Кстати, вот гипотезы: $$H_0: TC = 0$$ $$H_1: TC \\neq 0$$\n",
    "\n",
    "Вычислим $F$: для числителя есть аналитическая формула $(T\\hat{c} - t_0)^TD^{-1}(T\\hat{c} - t_0)$, где $D = TA^{-1}T^T$"
   ],
   "metadata": {
    "collapsed": false
   },
   "id": "5d592109bef7a074"
  },
  {
   "cell_type": "code",
   "execution_count": 143,
   "outputs": [
    {
     "name": "stdout",
     "output_type": "stream",
     "text": [
      "H0 гипотеза отвергнута: True\n"
     ]
    }
   ],
   "source": [
    "T = np.array([[1, 0, 0], [0, 1, 0]])\n",
    "t0 = np.array([0, 0])\n",
    "D = T @ invA @ T.T\n",
    "invD = np.linalg.inv(D)\n",
    "numerator = (T @ C - t0).T @ invD @ (T @ C - t0)\n",
    "F = ((n - 2) / 2) * (numerator / Ssq)\n",
    "\n",
    "distribution = f(2, n - 3)\n",
    "test_value = distribution.ppf(1 - alpha)\n",
    "print(\"H0 гипотеза отвергнута:\", test_value < F)"
   ],
   "metadata": {
    "collapsed": false,
    "ExecuteTime": {
     "end_time": "2023-12-24T00:08:45.419068800Z",
     "start_time": "2023-12-24T00:08:45.356188100Z"
    }
   },
   "id": "f56f320e6f957a62"
  },
  {
   "cell_type": "markdown",
   "source": [
    "### Задача 2"
   ],
   "metadata": {
    "collapsed": false
   },
   "id": "f80c189ffd28e605"
  },
  {
   "cell_type": "markdown",
   "source": [
    "Проверить гипотезу о равенстве средних на каждом уровне фактора с помощью модели однофакторного дисперсионного анализа (реализовать необходимо самим)\n",
    "\n",
    "Фактор - курит/не курит (\"smoker\"), выходная переменная - ИМТ (\"bmi\")"
   ],
   "metadata": {
    "collapsed": false
   },
   "id": "16309ac5b7dabd16"
  },
  {
   "cell_type": "code",
   "execution_count": 144,
   "outputs": [],
   "source": [
    "import pandas as pd\n",
    "from statsmodels.formula.api import ols\n",
    "\n",
    "df = pd.read_csv(\"sex_bmi_smokers.csv\")\n",
    "split_val = ols(\"bmi ~ smoker\", data=df).fit()"
   ],
   "metadata": {
    "collapsed": false,
    "ExecuteTime": {
     "end_time": "2023-12-24T00:08:45.622499300Z",
     "start_time": "2023-12-24T00:08:45.371812100Z"
    }
   },
   "id": "e7dca94bdd643f85"
  },
  {
   "cell_type": "markdown",
   "source": [
    "### Гипотеза и проверка библиотечным методом:"
   ],
   "metadata": {
    "collapsed": false
   },
   "id": "c7fc436cfbe22873"
  },
  {
   "cell_type": "markdown",
   "source": [
    "$H_0$ - средний ИМТ равен у тех кто курит и у тех кто не курит\n",
    "$H_1$ - средний ИМТ различается у курящих и не курящих\n"
   ],
   "metadata": {
    "collapsed": false
   },
   "id": "462e1cce972e38ad"
  },
  {
   "cell_type": "code",
   "execution_count": 145,
   "outputs": [
    {
     "data": {
      "text/plain": "                sum_sq      df         F    PR(>F)\nsmoker        0.699349     1.0  0.018792  0.890985\nResidual  49719.501037  1336.0       NaN       NaN",
      "text/html": "<div>\n<style scoped>\n    .dataframe tbody tr th:only-of-type {\n        vertical-align: middle;\n    }\n\n    .dataframe tbody tr th {\n        vertical-align: top;\n    }\n\n    .dataframe thead th {\n        text-align: right;\n    }\n</style>\n<table border=\"1\" class=\"dataframe\">\n  <thead>\n    <tr style=\"text-align: right;\">\n      <th></th>\n      <th>sum_sq</th>\n      <th>df</th>\n      <th>F</th>\n      <th>PR(&gt;F)</th>\n    </tr>\n  </thead>\n  <tbody>\n    <tr>\n      <th>smoker</th>\n      <td>0.699349</td>\n      <td>1.0</td>\n      <td>0.018792</td>\n      <td>0.890985</td>\n    </tr>\n    <tr>\n      <th>Residual</th>\n      <td>49719.501037</td>\n      <td>1336.0</td>\n      <td>NaN</td>\n      <td>NaN</td>\n    </tr>\n  </tbody>\n</table>\n</div>"
     },
     "execution_count": 145,
     "metadata": {},
     "output_type": "execute_result"
    }
   ],
   "source": [
    "import statsmodels.api as sm\n",
    "\n",
    "sm.stats.anova_lm(split_val, typ=2)"
   ],
   "metadata": {
    "collapsed": false,
    "ExecuteTime": {
     "end_time": "2023-12-24T00:08:46.206377600Z",
     "start_time": "2023-12-24T00:08:45.622499300Z"
    }
   },
   "id": "d5e5fccf52977541"
  },
  {
   "cell_type": "markdown",
   "source": [
    "$p_value >> 0.05$, а значит можно с уверенностью сказать что $H_0$ оказалась правдивой"
   ],
   "metadata": {
    "collapsed": false
   },
   "id": "51b5f4588c1cf59c"
  },
  {
   "cell_type": "markdown",
   "source": [
    "### Своя реализация"
   ],
   "metadata": {
    "collapsed": false
   },
   "id": "6bd6c8257222db51"
  },
  {
   "cell_type": "code",
   "execution_count": 146,
   "outputs": [
    {
     "name": "stdout",
     "output_type": "stream",
     "text": [
      "  Source of Variation  Sum of Squares  Degrees of Freedom Mean Square  \\\n",
      "0      Between Groups        0.699349                   1    0.699349   \n",
      "1       Within Groups    49719.501037                1336   37.215195   \n",
      "2               Total    49720.200386                1337               \n",
      "\n",
      "  F-statistic   P-value  \n",
      "0    0.018792  0.890985  \n",
      "1                        \n",
      "2                        \n"
     ]
    }
   ],
   "source": [
    "from scipy.special import betainc\n",
    "import pandas as pd\n",
    "\n",
    "def f_cdf(x, a, b):\n",
    "    return betainc(a / 2, b / 2, a * x / (a * x + b))\n",
    "\n",
    "def anova_lm(data, dependent_variable, factor_variable):\n",
    "    # Разбиение данных на уровни фактора\n",
    "    levels = data[factor_variable].unique()\n",
    "    groups = [data[dependent_variable][data[factor_variable] == level] for level in levels]\n",
    "\n",
    "    # Общее среднее значение\n",
    "    grand_mean = data[dependent_variable].mean()\n",
    "\n",
    "    # Вычисление сумм квадратов между группами\n",
    "    ssb = sum([len(group) * (group.mean() - grand_mean)**2 for group in groups])\n",
    "\n",
    "    # Вычисление сумм квадратов внутри групп\n",
    "    ssw = sum([(value - group.mean())**2 for group in groups for value in group])\n",
    "\n",
    "    # Вычисление общей суммы квадратов\n",
    "    sst = sum((data[dependent_variable] - grand_mean)**2)\n",
    "\n",
    "    # Вычисление степеней свободы\n",
    "    dfb = len(levels) - 1\n",
    "    dfw = len(data) - len(levels)\n",
    "    dft = len(data) - 1\n",
    "\n",
    "    # Вычисление средних квадратов\n",
    "    msb = ssb / dfb\n",
    "    msw = ssw / dfw\n",
    "\n",
    "    # Вычисление F-статистики\n",
    "    f_statistic = msb / msw\n",
    "\n",
    "    # Вычисление p-значения\n",
    "    p_value = 1 - f_cdf(f_statistic, dfb, dfw)\n",
    "\n",
    "    return {\n",
    "        'Source of Variation': ['Between Groups', 'Within Groups', 'Total'],\n",
    "        'Sum of Squares': [ssb, ssw, sst],\n",
    "        'Degrees of Freedom': [dfb, dfw, dft],\n",
    "        'Mean Square': [msb, msw, ''],\n",
    "        'F-statistic': [f_statistic, '', ''],\n",
    "        'P-value': [p_value, '', '']\n",
    "    }\n",
    "\n",
    "# Применение функции anova_lm\n",
    "result = anova_lm(df, dependent_variable='bmi', factor_variable='smoker')\n",
    "\n",
    "# Вывод результатов\n",
    "result_df = pd.DataFrame(result)\n",
    "print(result_df)"
   ],
   "metadata": {
    "collapsed": false,
    "ExecuteTime": {
     "end_time": "2023-12-24T00:08:46.312253700Z",
     "start_time": "2023-12-24T00:08:46.206377600Z"
    }
   },
   "id": "f6c69636f9e772c6"
  },
  {
   "cell_type": "markdown",
   "source": [
    "Таким образом, собственноручно написанный нами метод дал результат $p_value$ такого же порядка и соответственно мы можем с уверенностью сказать что ИМТ не зависит от того курит человек или нет"
   ],
   "metadata": {
    "collapsed": false
   },
   "id": "8ca5efffcffa5f99"
  },
  {
   "cell_type": "code",
   "execution_count": 146,
   "outputs": [],
   "source": [],
   "metadata": {
    "collapsed": false,
    "ExecuteTime": {
     "end_time": "2023-12-24T00:08:46.312253700Z",
     "start_time": "2023-12-24T00:08:46.264972900Z"
    }
   },
   "id": "252ee237db808ef9"
  }
 ],
 "metadata": {
  "kernelspec": {
   "display_name": "Python 3",
   "language": "python",
   "name": "python3"
  },
  "language_info": {
   "codemirror_mode": {
    "name": "ipython",
    "version": 2
   },
   "file_extension": ".py",
   "mimetype": "text/x-python",
   "name": "python",
   "nbconvert_exporter": "python",
   "pygments_lexer": "ipython2",
   "version": "2.7.6"
  }
 },
 "nbformat": 4,
 "nbformat_minor": 5
}
