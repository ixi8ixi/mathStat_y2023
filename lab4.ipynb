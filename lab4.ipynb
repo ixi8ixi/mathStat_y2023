{
 "cells": [
  {
   "cell_type": "markdown",
   "source": [
    "<center>Национальный исследовательский университет ИТМО<br/>Факультет информационных технологий и программирования<br/>Прикладная математика и информатика</center>\n",
    "\n",
    "## <center>Математическая статистика</center>\n",
    "### <center>Отчёт по лабораторной работе №4</center>\n",
    "\n",
    "<div style=\"text-align: right\"><b>Работу выполнили:</b><br/>Белоцерковченко Андрей M3337<br/>Смирнов Андрей M3337<br/</div>\n",
    "\n",
    "<center>Санкт-Петербург<br/>2023</center>"
   ],
   "metadata": {
    "collapsed": false
   },
   "id": "97da2218c3ade897"
  },
  {
   "cell_type": "markdown",
   "source": [
    "# Вариант 2"
   ],
   "metadata": {
    "collapsed": false
   },
   "id": "c18ca83f81dbd000"
  },
  {
   "cell_type": "markdown",
   "source": [
    "## Задача 1"
   ],
   "metadata": {
    "collapsed": false
   },
   "id": "2d03d35a0295c6c0"
  },
  {
   "cell_type": "code",
   "execution_count": 2,
   "id": "initial_id",
   "metadata": {
    "collapsed": true,
    "ExecuteTime": {
     "end_time": "2023-11-26T21:37:04.928241Z",
     "start_time": "2023-11-26T21:37:00.585173Z"
    }
   },
   "outputs": [],
   "source": [
    "import numpy as np\n",
    "from scipy.special import comb\n",
    "from scipy.stats import norm\n",
    "from scipy.stats import rankdata\n",
    "import pandas as pd\n",
    "import math\n",
    "df = pd.read_csv('exams_dataset.csv')\n",
    "alpha = 0.05"
   ]
  },
  {
   "cell_type": "markdown",
   "source": [
    "### Гипотезы\n",
    "\n",
    "$H_0:$ статистически количество мужчин и женщин неразличимо \n",
    "\n",
    "$H_1:$ статистически их количество различается\n",
    "\n",
    "Будем использовать критерий $X ^ 2$ для проверки на независимость\n"
   ],
   "metadata": {
    "collapsed": false
   },
   "id": "72c7f6238aec03ef"
  },
  {
   "cell_type": "markdown",
   "source": [
    "Критерий независимости хи-квадрат (также известный как тест ассоциации хи-квадрат) позволяет определить, связаны ли две категориальные переменные. Если две переменные связаны, вероятность того, что одна переменная имеет определённое значение, зависит от значения другой переменной.\n",
    "\n",
    "Вычисления критерия независимости хи-квадрат основаны на наблюдаемых частотах, которые представляют собой количество наблюдений в каждой объединённой группе. Тест сравнивает наблюдаемые частоты с частотами, которые можно было бы ожидать, если бы две переменные не были связаны."
   ],
   "metadata": {
    "collapsed": false
   },
   "id": "6155fcfe7f5833b3"
  },
  {
   "cell_type": "code",
   "execution_count": 8,
   "outputs": [],
   "source": [
    "from scipy.stats import chisquare\n",
    "\n",
    "def calc_by_field(field: str):\n",
    "    # Создание таблицы сопряженности\n",
    "    contingency_table = pd.crosstab(df[field], columns='count')\n",
    "    \n",
    "    # Применение критерия хи-квадрат\n",
    "    res = chisquare(contingency_table['count'])\n",
    "    print(f'Статистика критерия хи-квадрат: {res.statistic}')\n",
    "    print(f'P-значение: {res.pvalue}')\n",
    "    print(contingency_table)"
   ],
   "metadata": {
    "collapsed": false,
    "ExecuteTime": {
     "end_time": "2023-11-26T21:58:53.950368Z",
     "start_time": "2023-11-26T21:58:53.944856Z"
    }
   },
   "id": "fe0ea18b7ae84a47"
  },
  {
   "cell_type": "code",
   "execution_count": 9,
   "outputs": [
    {
     "name": "stdout",
     "output_type": "stream",
     "text": [
      "Статистика критерия хи-квадрат: 0.144\n",
      "P-значение: 0.7043364134884518\n",
      "col_0   count\n",
      "gender       \n",
      "female    494\n",
      "male      506\n"
     ]
    }
   ],
   "source": [
    "calc_by_field('gender')"
   ],
   "metadata": {
    "collapsed": false,
    "ExecuteTime": {
     "end_time": "2023-11-26T21:58:56.402301Z",
     "start_time": "2023-11-26T21:58:56.393296Z"
    }
   },
   "id": "d66282b96cb9fca2"
  },
  {
   "cell_type": "markdown",
   "source": [
    "Пояснение:\n",
    "\n",
    "`statistic`: Это значение тестовой статистики, которое сравнивается с распределением хи-квадрат.\n",
    "`pvalue`: Это p-значение теста. Он используется для оценки статистической значимости. Если p-значение меньше уровня значимости (обычно 0.05), то нулевая гипотеза о том, что наблюдаемое распределение соответствует ожидаемому, может быть отвергнута."
   ],
   "metadata": {
    "collapsed": false
   },
   "id": "82091655f040e404"
  },
  {
   "cell_type": "markdown",
   "source": [
    "И сама наша статистика хи квадрат. На основе P-значения можем сделать вывод о том, что гипотеза H0 применима\n",
    "\n",
    "Таким образом результаты теста:\n",
    "- Используется статистика $X^2$\n",
    "- Степени свободы при распределении хи квадрат - `(rows - 1) * (cols - 1)`\n",
    "- Критическая область двусторонняя"
   ],
   "metadata": {
    "collapsed": false
   },
   "id": "8cf660845747c224"
  },
  {
   "cell_type": "markdown",
   "source": [
    "Статистика: Это значение тестовой статистики (в данном случае, статистика Хи-квадрат). Это число используется для сравнения с критической областью и принятия решения о том, следует ли отвергнуть нулевую гипотезу.\n",
    "\n",
    "Распределение при условии нулевой гипотезы: Это распределение, которое принимается во внимание при проверке нулевой гипотезы. В данном случае, оно описывается как распределение Хи-квадрат с \n",
    "\n",
    "Тип критической области: Это указание на тип критической области. В данном случае, говорится о двусторонней критической области. Двусторонний тест означает, что мы исследуем оба конца распределения (хвосты), и отвергаем нулевую гипотезу, если статистика попадает в один из этих хвостов."
   ],
   "metadata": {
    "collapsed": false
   },
   "id": "b9e689629e787daa"
  },
  {
   "cell_type": "markdown",
   "source": [
    "### То же самое для этнической принадлежности"
   ],
   "metadata": {
    "collapsed": false
   },
   "id": "f897215fda09f650"
  },
  {
   "cell_type": "code",
   "execution_count": 10,
   "outputs": [
    {
     "name": "stdout",
     "output_type": "stream",
     "text": [
      "Статистика критерия хи-квадрат: 192.98999999999998\n",
      "P-значение: 1.2070807175456277e-40\n",
      "col_0           count\n",
      "race/ethnicity       \n",
      "group A            77\n",
      "group B           204\n",
      "group C           324\n",
      "group D           261\n",
      "group E           134\n"
     ]
    }
   ],
   "source": [
    "calc_by_field(\"race/ethnicity\")"
   ],
   "metadata": {
    "collapsed": false,
    "ExecuteTime": {
     "end_time": "2023-11-26T22:01:04.004172Z",
     "start_time": "2023-11-26T22:01:03.995789Z"
    }
   },
   "id": "3e3ca92027b8a3d9"
  },
  {
   "cell_type": "markdown",
   "source": [
    "Здесь у нас получается что $p << \\alpha$ при $\\alpha = 0.05$, а следовательно гипотеза $H0$ должна быть отвергнута\n",
    "\n",
    "Таким образом результаты теста:\n",
    "- Используется статистика $X^2$\n",
    "- Степени свободы при распределении хи квадрат - `(rows - 1) * (cols - 1)`\n",
    "- Критическая область двусторонняя"
   ],
   "metadata": {
    "collapsed": false
   },
   "id": "f485e2f0b3f6b26"
  },
  {
   "cell_type": "markdown",
   "source": [
    "## Задача 2\n",
    "В задаче мы хотим проверить, что выборки результатов по математике и письменной части имеют одинаковое распределение. Более формально: $$H_0: F_X = F_Y$$ $$H_1: F_X \\neq F_Y $$ Здесь и далее уровень значимости $\\alpha = 0.05$"
   ],
   "metadata": {
    "collapsed": false
   },
   "id": "b1649001a1f51127"
  },
  {
   "cell_type": "markdown",
   "source": [
    "### Критерий знаков\n",
    "Пусть результаты по математике будут равны $X_1, X_2, X_3 ... X_n$, а по письменной части $Y_1, Y_2, Y_3 ... Y_n$. Возьмём последовательность $Z$, такую что $sign(X_1 - Y_1), sign(X_2 - Y_2), sign(X_3 - Y_3) ... sign(X_n - Y_n)$. Выкинем из рассмотрения все нули (случаи, когда $X_i = Y_i$). Мы хотим проверить, правда ли, что $P(Z > 0) = 0.5$.\n",
    "Переформулируем гипотезы: $$H_0: p = \\cfrac{1}{2}$$ $$H_1: p \\neq \\cfrac{1}{2}$$\n",
    "Пусть $w$ - количество $Z_i = 1$. Если $H_0$ выполняется, то $w \\sim B(n, 0.5)$ А дальше просто проверяем, что $b = \\cfrac{\\sum\\limits_{i = 0}^w C_n^i}{2^n}$ попадает в критическую область $(\\cfrac{\\alpha}{2}, 1 - \\cfrac{\\alpha}{2})$, где $\\alpha$ - уровень значимости равный $0.05$"
   ],
   "metadata": {
    "collapsed": false
   },
   "id": "e508446787db6a25"
  },
  {
   "cell_type": "code",
   "execution_count": 111,
   "outputs": [
    {
     "name": "stdout",
     "output_type": "stream",
     "text": [
      "Sign stat: 0.0024308681959370596\n",
      "Check if stat in critical region: False\n"
     ]
    }
   ],
   "source": [
    "sign = lambda x: math.copysign(1, x)\n",
    "test = (df['math score'] - df['writing score']).apply(sign)\n",
    "w = test.gt(0).sum()\n",
    "cSum = 0\n",
    "for i in range(0, w + 1):\n",
    "    cSum += comb(1000, i, exact=True)\n",
    "\n",
    "b = cSum / (2 ** 1000)\n",
    "print(\"Sign stat:\", b)\n",
    "print(\"Check if stat in critical region:\", (alpha / 2) < b < 1 - (alpha / 2))"
   ],
   "metadata": {
    "collapsed": false,
    "ExecuteTime": {
     "end_time": "2023-11-25T20:09:55.798846200Z",
     "start_time": "2023-11-25T20:09:55.739363200Z"
    }
   },
   "id": "ca8247168faf8476"
  },
  {
   "cell_type": "markdown",
   "source": [
    "## Критерий Ван дер Вардена\n",
    "\n",
    "Определим величину $A_{ij}$: $$A_{ij} = \\Phi^{-1}(\\cfrac{R(X_{ij})}{N + 1})$$ где $R(X_{ij})$ - ранг $i$-ого элемента $j$-ой выборки в объединённой выборке, N - размер объединённой выборки. Также введём величины $\\overline{A_j}$ и $s^2$: $$\\overline{A_j} = \\cfrac{1}{n_j}\\sum\\limits_{i = 1}^{n_j}A_{ij}$$ $$s^2 = \\cfrac{1}{N - 1}\\sum\\limits_{j = 1}^k\\sum\\limits_{i = 1}^{n_j}A_{ij}^2$$\n",
    "Тогда статистика считается по формуле $$T = \\cfrac{1}{s^2}\\sum\\limits_{j = 1}n_j\\overline{A_j}^2$$\n",
    "Поскольку тест Ван дер Вардена описан для $k$ выборок - в оригинале гипотеза $H_1$ звучит так: \"хотя бы одна из выборок имеет тенденцию давать более крупные значения, чем другие\" Но поскольку в нашем случае мы проверяем однородность только двух выборок - можем оставить $H_1$ без изменения.\n",
    "\n",
    "При этом нуль-гипотеза отвергается, если статистика попадёт в промежуток $T > \\chi^2_{\\alpha, k - 1}$"
   ],
   "metadata": {
    "collapsed": false
   },
   "id": "3563125718dcb553"
  },
  {
   "cell_type": "code",
   "execution_count": 112,
   "outputs": [
    {
     "name": "stdout",
     "output_type": "stream",
     "text": [
      "Van der Waerden stat: 0.10906549996717955\n",
      "Check if stat in critical region: True\n"
     ]
    }
   ],
   "source": [
    "def count_mean_rank(f, s, d):\n",
    "    n = len(f)\n",
    "    m = len(s)\n",
    "    k = n + m + 1\n",
    "    R = 0\n",
    "    for x in f:\n",
    "        R += norm.ppf(d[x] / k)\n",
    "        \n",
    "    return R / n\n",
    "\n",
    "def count_variance(f, s):\n",
    "    n = len(f)\n",
    "    m = len(s)\n",
    "    \n",
    "    R = 0\n",
    "    for x in f:\n",
    "        R += x\n",
    "    for y in s:\n",
    "        R += y\n",
    "        \n",
    "    return R / (n + m - 1)\n",
    "\n",
    "a = df['math score']\n",
    "b = df['writing score']\n",
    "u = np.concatenate((a, b))\n",
    "number_to_rank = dict(zip(u, rankdata(u)))\n",
    "stat = ((count_mean_rank(a, b, number_to_rank) ** 2) * len(a) + \n",
    "        (count_mean_rank(b, a, number_to_rank) ** 2) * len(b)) / count_variance(a, b)\n",
    "print(\"Van der Waerden stat:\", stat)\n",
    "print(\"Check if stat in critical region:\", chi2.ppf(alpha, 1) < stat)"
   ],
   "metadata": {
    "collapsed": false,
    "ExecuteTime": {
     "end_time": "2023-11-25T20:09:56.018134200Z",
     "start_time": "2023-11-25T20:09:55.774686200Z"
    }
   },
   "id": "4245900ac78f426c"
  },
  {
   "cell_type": "markdown",
   "source": [
    "Таким образом, оба критерия показали неоднородность результатов экзамена по математике и письменной части.  "
   ],
   "metadata": {
    "collapsed": false
   },
   "id": "1b3c445432e35009"
  },
  {
   "cell_type": "markdown",
   "source": [
    "## Задача 3\n",
    "Верно ли что прошедшие подготовительные курсы лучше сдали экзамены?\n",
    "\n",
    "$H_0:$ результаты экзаменов не зависят от прохождения подготовительных курсов\n",
    "\n",
    "$H_1:$ прошедшие курсы сдали экзамены лучше\n",
    "\n",
    "Выполним t-тест с выборками по тем кто прошел курс и тем кто этого не сдалал"
   ],
   "metadata": {
    "collapsed": false
   },
   "id": "553005a2858bb187"
  },
  {
   "cell_type": "code",
   "execution_count": 12,
   "outputs": [],
   "source": [
    "from scipy.stats import ttest_ind\n",
    "\n",
    "had_course = df[df['test preparation course'] == 'completed']['math score']\n",
    "no_course = df[df['test preparation course'] == 'none']['math score']\n",
    "ans = ttest_ind(had_course, no_course)"
   ],
   "metadata": {
    "collapsed": false,
    "ExecuteTime": {
     "end_time": "2023-11-27T00:39:21.037009Z",
     "start_time": "2023-11-27T00:39:21.028288Z"
    }
   },
   "id": "334ef916f68478b9"
  },
  {
   "cell_type": "code",
   "execution_count": 14,
   "outputs": [
    {
     "name": "stdout",
     "output_type": "stream",
     "text": [
      "Статистика: 5.5589194118951095\n",
      "p значение = 3.483493224877811e-08\n",
      "998.0\n"
     ]
    }
   ],
   "source": [
    "print(f'Статистика: {ans.statistic}')\n",
    "print(f'p значение = {ans.pvalue}')\n",
    "print(ans.df)"
   ],
   "metadata": {
    "collapsed": false,
    "ExecuteTime": {
     "end_time": "2023-11-27T00:40:21.192691Z",
     "start_time": "2023-11-27T00:40:21.189234Z"
    }
   },
   "id": "17494258369a6044"
  },
  {
   "cell_type": "markdown",
   "source": [
    "Значение p очень мало, а значит эту гипотезу можно отвергать"
   ],
   "metadata": {
    "collapsed": false
   },
   "id": "76b4b01199763364"
  },
  {
   "cell_type": "markdown",
   "source": [
    "### Метод Манна Уитни"
   ],
   "metadata": {
    "collapsed": false
   },
   "id": "b874efd2f241f428"
  },
  {
   "cell_type": "code",
   "execution_count": 15,
   "outputs": [
    {
     "name": "stdout",
     "output_type": "stream",
     "text": [
      "Статистика: 140075.0\n",
      "p значение = 2.2533705495929116e-07\n"
     ]
    }
   ],
   "source": [
    "from scipy.stats import mannwhitneyu\n",
    "\n",
    "ans = mannwhitneyu(had_course, no_course)\n",
    "\n",
    "print(f'Статистика: {ans.statistic}')\n",
    "print(f'p значение = {ans.pvalue}')"
   ],
   "metadata": {
    "collapsed": false,
    "ExecuteTime": {
     "end_time": "2023-11-27T00:45:48.930510Z",
     "start_time": "2023-11-27T00:45:48.923805Z"
    }
   },
   "id": "654dcb40ea5d4baf"
  },
  {
   "cell_type": "markdown",
   "source": [
    "Также значение очень мало и значит гипотезу можно отвергать"
   ],
   "metadata": {
    "collapsed": false
   },
   "id": "dec7020e1e95672b"
  }
 ],
 "metadata": {
  "kernelspec": {
   "display_name": "Python 3",
   "language": "python",
   "name": "python3"
  },
  "language_info": {
   "codemirror_mode": {
    "name": "ipython",
    "version": 2
   },
   "file_extension": ".py",
   "mimetype": "text/x-python",
   "name": "python",
   "nbconvert_exporter": "python",
   "pygments_lexer": "ipython2",
   "version": "2.7.6"
  }
 },
 "nbformat": 4,
 "nbformat_minor": 5
}
