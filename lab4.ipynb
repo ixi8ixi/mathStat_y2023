{
 "cells": [
  {
   "cell_type": "markdown",
   "source": [
    "<center>Национальный исследовательский университет ИТМО<br/>Факультет информационных технологий и программирования<br/>Прикладная математика и информатика</center>\n",
    "\n",
    "## <center>Математическая статистика</center>\n",
    "### <center>Отчёт по лабораторной работе №4</center>\n",
    "\n",
    "<div style=\"text-align: right\"><b>Работу выполнили:</b><br/>Белоцерковченко Андрей M3337<br/>Смирнов Андрей M3337<br/</div>\n",
    "\n",
    "<center>Санкт-Петербург<br/>2023</center>"
   ],
   "metadata": {
    "collapsed": false
   },
   "id": "97da2218c3ade897"
  },
  {
   "cell_type": "markdown",
   "source": [
    "# Вариант 2"
   ],
   "metadata": {
    "collapsed": false
   },
   "id": "c18ca83f81dbd000"
  },
  {
   "cell_type": "code",
   "execution_count": 110,
   "id": "initial_id",
   "metadata": {
    "collapsed": true,
    "ExecuteTime": {
     "end_time": "2023-11-25T20:09:55.737379700Z",
     "start_time": "2023-11-25T20:09:55.705201200Z"
    }
   },
   "outputs": [],
   "source": [
    "import numpy as np\n",
    "from scipy.special import comb\n",
    "from scipy.stats import norm\n",
    "from scipy.stats import rankdata\n",
    "from scipy.stats import chi2\n",
    "import pandas as pd\n",
    "import math\n",
    "df = pd.read_csv('exams_dataset.csv')\n",
    "alpha = 0.05"
   ]
  },
  {
   "cell_type": "markdown",
   "source": [
    "## Задача 2\n",
    "В задаче мы хотим проверить, что выборки результатов по математике и письменной части имеют одинаковое распределение. Более формально: $$H_0: F_X = F_Y$$ $$H_1: F_X \\neq F_Y $$ Здесь и далее уровень значимости $\\alpha = 0.05$"
   ],
   "metadata": {
    "collapsed": false
   },
   "id": "b1649001a1f51127"
  },
  {
   "cell_type": "markdown",
   "source": [
    "### Критерий знаков\n",
    "Пусть результаты по математике будут равны $X_1, X_2, X_3 ... X_n$, а по письменной части $Y_1, Y_2, Y_3 ... Y_n$. Возьмём последовательность $Z$, такую что $sign(X_1 - Y_1), sign(X_2 - Y_2), sign(X_3 - Y_3) ... sign(X_n - Y_n)$. Выкинем из рассмотрения все нули (случаи, когда $X_i = Y_i$). Мы хотим проверить, правда ли, что $P(Z > 0) = 0.5$.\n",
    "Переформулируем гипотезы: $$H_0: p = \\cfrac{1}{2}$$ $$H_1: p \\neq \\cfrac{1}{2}$$\n",
    "Пусть $w$ - количество $Z_i = 1$. Если $H_0$ выполняется, то $w \\sim B(n, 0.5)$ А дальше просто проверяем, что $b = \\cfrac{\\sum\\limits_{i = 0}^w C_n^i}{2^n}$ попадает в критическую область $(\\cfrac{\\alpha}{2}, 1 - \\cfrac{\\alpha}{2})$, где $\\alpha$ - уровень значимости равный $0.05$"
   ],
   "metadata": {
    "collapsed": false
   },
   "id": "e508446787db6a25"
  },
  {
   "cell_type": "code",
   "execution_count": 111,
   "outputs": [
    {
     "name": "stdout",
     "output_type": "stream",
     "text": [
      "Sign stat: 0.0024308681959370596\n",
      "Check if stat in critical region: False\n"
     ]
    }
   ],
   "source": [
    "sign = lambda x: math.copysign(1, x)\n",
    "test = (df['math score'] - df['writing score']).apply(sign)\n",
    "w = test.gt(0).sum()\n",
    "cSum = 0\n",
    "for i in range(0, w + 1):\n",
    "    cSum += comb(1000, i, exact=True)\n",
    "\n",
    "b = cSum / (2 ** 1000)\n",
    "print(\"Sign stat:\", b)\n",
    "print(\"Check if stat in critical region:\", (alpha / 2) < b < 1 - (alpha / 2))"
   ],
   "metadata": {
    "collapsed": false,
    "ExecuteTime": {
     "end_time": "2023-11-25T20:09:55.798846200Z",
     "start_time": "2023-11-25T20:09:55.739363200Z"
    }
   },
   "id": "ca8247168faf8476"
  },
  {
   "cell_type": "markdown",
   "source": [
    "## Критерий Ван дер Вардена\n",
    "\n",
    "Определим величину $A_{ij}$: $$A_{ij} = \\Phi^{-1}(\\cfrac{R(X_{ij})}{N + 1})$$ где $R(X_{ij})$ - ранг $i$-ого элемента $j$-ой выборки в объединённой выборке, N - размер объединённой выборки. Также введём величины $\\overline{A_j}$ и $s^2$: $$\\overline{A_j} = \\cfrac{1}{n_j}\\sum\\limits_{i = 1}^{n_j}A_{ij}$$ $$s^2 = \\cfrac{1}{N - 1}\\sum\\limits_{j = 1}^k\\sum\\limits_{i = 1}^{n_j}A_{ij}^2$$\n",
    "Тогда статистика считается по формуле $$T = \\cfrac{1}{s^2}\\sum\\limits_{j = 1}n_j\\overline{A_j}^2$$\n",
    "Поскольку тест Ван дер Вардена описан для $k$ выборок - в оригинале гипотеза $H_1$ звучит так: \"хотя бы одна из выборок имеет тенденцию давать более крупные значения, чем другие\" Но поскольку в нашем случае мы проверяем однородность только двух выборок - можем оставить $H_1$ без изменения.\n",
    "\n",
    "При этом нуль-гипотеза отвергается, если статистика попадёт в промежуток $T > \\chi^2_{\\alpha, k - 1}$"
   ],
   "metadata": {
    "collapsed": false
   },
   "id": "3563125718dcb553"
  },
  {
   "cell_type": "code",
   "execution_count": 112,
   "outputs": [
    {
     "name": "stdout",
     "output_type": "stream",
     "text": [
      "Van der Waerden stat: 0.10906549996717955\n",
      "Check if stat in critical region: True\n"
     ]
    }
   ],
   "source": [
    "def count_mean_rank(f, s, d):\n",
    "    n = len(f)\n",
    "    m = len(s)\n",
    "    k = n + m + 1\n",
    "    R = 0\n",
    "    for x in f:\n",
    "        R += norm.ppf(d[x] / k)\n",
    "        \n",
    "    return R / n\n",
    "\n",
    "def count_variance(f, s):\n",
    "    n = len(f)\n",
    "    m = len(s)\n",
    "    \n",
    "    R = 0\n",
    "    for x in f:\n",
    "        R += x\n",
    "    for y in s:\n",
    "        R += y\n",
    "        \n",
    "    return R / (n + m - 1)\n",
    "\n",
    "a = df['math score']\n",
    "b = df['writing score']\n",
    "u = np.concatenate((a, b))\n",
    "number_to_rank = dict(zip(u, rankdata(u)))\n",
    "stat = ((count_mean_rank(a, b, number_to_rank) ** 2) * len(a) + \n",
    "        (count_mean_rank(b, a, number_to_rank) ** 2) * len(b)) / count_variance(a, b)\n",
    "print(\"Van der Waerden stat:\", stat)\n",
    "print(\"Check if stat in critical region:\", chi2.ppf(alpha, 1) < stat)"
   ],
   "metadata": {
    "collapsed": false,
    "ExecuteTime": {
     "end_time": "2023-11-25T20:09:56.018134200Z",
     "start_time": "2023-11-25T20:09:55.774686200Z"
    }
   },
   "id": "4245900ac78f426c"
  },
  {
   "cell_type": "markdown",
   "source": [
    "Таким образом, оба критерия показали неоднородность результатов экзамена по математике и письменной части.  "
   ],
   "metadata": {
    "collapsed": false
   },
   "id": "1b3c445432e35009"
  }
 ],
 "metadata": {
  "kernelspec": {
   "display_name": "Python 3",
   "language": "python",
   "name": "python3"
  },
  "language_info": {
   "codemirror_mode": {
    "name": "ipython",
    "version": 2
   },
   "file_extension": ".py",
   "mimetype": "text/x-python",
   "name": "python",
   "nbconvert_exporter": "python",
   "pygments_lexer": "ipython2",
   "version": "2.7.6"
  }
 },
 "nbformat": 4,
 "nbformat_minor": 5
}
