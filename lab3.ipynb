{
 "cells": [
  {
   "cell_type": "markdown",
   "source": [
    "<center>Национальный исследовательский университет ИТМО<br/>Факультет информационных технологий и программирования<br/>Прикладная математика и информатика</center>\n",
    "\n",
    "## <center>Математическая статистика</center>\n",
    "### <center>Отчёт по лабораторной работе №3</center>\n",
    "\n",
    "<div style=\"text-align: right\"><b>Работу выполнили:</b><br/>Белоцерковченко Андрей M3337<br/>Смирнов Андрей M3337<br/</div>\n",
    "\n",
    "<center>Санкт-Петербург<br/>2023</center>"
   ],
   "metadata": {
    "collapsed": false
   },
   "id": "b9ae0ae1bddb847e"
  },
  {
   "cell_type": "markdown",
   "source": [
    "## Доверительный интервал уровня $1 - \\alpha$\n",
    "### Теория\n",
    "\n",
    "Есть две выборки $X_1, X_2 \\dots X_n \\sim N(\\mu_1, \\sigma_1^2)$ и $Y_1, Y_2 \\dots Y_m \\sim N(\\mu_2, \\sigma_2^2)$. Оцениваем $\\theta = \\cfrac{\\sigma_1^2}{\\sigma_2^2}$, при этом $\\mu_1$ и $\\mu_2$ нам известны. \n",
    "\n",
    "Первым делом введём слуайную величину $U_1 = \\sum\\limits_{i = 1}^n(\\cfrac{X_i - \\mu_1}{\\sigma_1})^2$. Т.к. выборка распределена по нормальному закону - мы можем сказать, что $U_1 \\sim \\chi^2(n)$. Аналогично для $Y_i$ вводим случайную величину $U_2$\n",
    "\n",
    "По определению распределения Фишера получаем, что $$\\cfrac{U_2 / m}{U_1 / n} \\sim F(m, n)$$ расписываем отношение и получаем: \n",
    "$$\\cfrac{n\\sum\\limits_{j = 1}^m(Y_j - \\mu_2)^2}{m\\sum\\limits_{i = 1}^n(X_i - \\mu_1)^2}\\tau \\sim F(m, n)$$\n",
    "\n",
    "Теперь мы можем посчитать доверительный ряд: $$P(q_{\\frac{\\alpha}{2}} \\leq \\cfrac{n\\sum\\limits_{j = 1}^m(Y_j - \\mu_2)^2}{m\\sum\\limits_{i = 1}^n(X_i - \\mu_1)^2}\\tau \\leq q_{1 - \\frac{\\alpha}{2}}) = 1 - \\alpha$$\n",
    "\n",
    "Таким образом, доверительный интервал будет иметь следующий вид: \n",
    "$$\\tau \\in \\Bigg[ q_{\\frac{\\alpha}{2}}\\cfrac{m\\sum\\limits_{i = 1}^n(X_i - \\mu_1)^2}{n\\sum\\limits_{j = 1}^m(Y_j - \\mu_2)^2}; q_{1 - \\frac{\\alpha}{2}}\\cfrac{m\\sum\\limits_{i = 1}^n(X_i - \\mu_1)^2}{n\\sum\\limits_{j = 1}^m(Y_j - \\mu_2)^2} \\Bigg]$$"
   ],
   "metadata": {
    "collapsed": false
   },
   "id": "29ef493eff05e1ad"
  },
  {
   "cell_type": "markdown",
   "source": [
    "### Эксперименты"
   ],
   "metadata": {
    "collapsed": false
   },
   "id": "b7f27792fd563e8c"
  },
  {
   "cell_type": "code",
   "execution_count": 1,
   "id": "initial_id",
   "metadata": {
    "collapsed": true,
    "ExecuteTime": {
     "end_time": "2023-11-04T16:55:31.493316600Z",
     "start_time": "2023-11-04T16:55:31.469338300Z"
    }
   },
   "outputs": [
    {
     "name": "stdout",
     "output_type": "stream",
     "text": [
      "cringe\n"
     ]
    }
   ],
   "source": [
    "print(\"cringe\")"
   ]
  }
 ],
 "metadata": {
  "kernelspec": {
   "display_name": "Python 3",
   "language": "python",
   "name": "python3"
  },
  "language_info": {
   "codemirror_mode": {
    "name": "ipython",
    "version": 2
   },
   "file_extension": ".py",
   "mimetype": "text/x-python",
   "name": "python",
   "nbconvert_exporter": "python",
   "pygments_lexer": "ipython2",
   "version": "2.7.6"
  }
 },
 "nbformat": 4,
 "nbformat_minor": 5
}
