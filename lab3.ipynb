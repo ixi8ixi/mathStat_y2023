{
 "cells": [
  {
   "cell_type": "markdown",
   "source": [
    "<center>Национальный исследовательский университет ИТМО<br/>Факультет информационных технологий и программирования<br/>Прикладная математика и информатика</center>\n",
    "\n",
    "## <center>Математическая статистика</center>\n",
    "### <center>Отчёт по лабораторной работе №3</center>\n",
    "\n",
    "<div style=\"text-align: right\"><b>Работу выполнили:</b><br/>Белоцерковченко Андрей M3337<br/>Смирнов Андрей M3337<br/</div>\n",
    "\n",
    "<center>Санкт-Петербург<br/>2023</center>"
   ],
   "metadata": {
    "collapsed": false
   },
   "id": "b9ae0ae1bddb847e"
  },
  {
   "cell_type": "markdown",
   "source": [
    "## Доверительный интервал уровня $1 - \\alpha$\n",
    "### Теория\n",
    "\n",
    "Есть две выборки $X_1, X_2 \\dots X_n \\sim N(\\mu_1, \\sigma_1^2)$ и $Y_1, Y_2 \\dots Y_m \\sim N(\\mu_2, \\sigma_2^2)$. Оцениваем $\\theta = \\cfrac{\\sigma_1^2}{\\sigma_2^2}$, при этом $\\mu_1$ и $\\mu_2$ нам известны. \n",
    "\n",
    "Первым делом введём слуайную величину $U_1$"
   ],
   "metadata": {
    "collapsed": false
   },
   "id": "29ef493eff05e1ad"
  },
  {
   "cell_type": "code",
   "execution_count": 1,
   "id": "initial_id",
   "metadata": {
    "collapsed": true,
    "ExecuteTime": {
     "end_time": "2023-11-04T16:55:31.493316600Z",
     "start_time": "2023-11-04T16:55:31.469338300Z"
    }
   },
   "outputs": [
    {
     "name": "stdout",
     "output_type": "stream",
     "text": [
      "cringe\n"
     ]
    }
   ],
   "source": [
    "print(\"cringe\")"
   ]
  }
 ],
 "metadata": {
  "kernelspec": {
   "display_name": "Python 3",
   "language": "python",
   "name": "python3"
  },
  "language_info": {
   "codemirror_mode": {
    "name": "ipython",
    "version": 2
   },
   "file_extension": ".py",
   "mimetype": "text/x-python",
   "name": "python",
   "nbconvert_exporter": "python",
   "pygments_lexer": "ipython2",
   "version": "2.7.6"
  }
 },
 "nbformat": 4,
 "nbformat_minor": 5
}
