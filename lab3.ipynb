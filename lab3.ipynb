{
 "cells": [
  {
   "cell_type": "markdown",
   "source": [
    "<center>Национальный исследовательский университет ИТМО<br/>Факультет информационных технологий и программирования<br/>Прикладная математика и информатика</center>\n",
    "\n",
    "## <center>Математическая статистика</center>\n",
    "### <center>Отчёт по лабораторной работе №3</center>\n",
    "\n",
    "<div style=\"text-align: right\"><b>Работу выполнили:</b><br/>Белоцерковченко Андрей M3337<br/>Смирнов Андрей M3337<br/</div>\n",
    "\n",
    "<center>Санкт-Петербург<br/>2023</center>"
   ],
   "metadata": {
    "collapsed": false
   },
   "id": "b9ae0ae1bddb847e"
  },
  {
   "cell_type": "code",
   "execution_count": 67,
   "outputs": [],
   "source": [
    "import numpy as np\n",
    "import scipy as sc\n",
    "from math import sqrt"
   ],
   "metadata": {
    "collapsed": false,
    "ExecuteTime": {
     "end_time": "2023-11-04T18:08:19.279597300Z",
     "start_time": "2023-11-04T18:08:19.205498700Z"
    }
   },
   "id": "304558739731fbb4"
  },
  {
   "cell_type": "markdown",
   "source": [
    "## Доверительный интервал уровня $1 - \\alpha$\n",
    "### Теория\n",
    "\n",
    "Есть две выборки $X_1, X_2 \\dots X_n \\sim N(\\mu_1, \\sigma_1^2)$ и $Y_1, Y_2 \\dots Y_m \\sim N(\\mu_2, \\sigma_2^2)$. Оцениваем $\\theta = \\cfrac{\\sigma_1^2}{\\sigma_2^2}$, при этом $\\mu_1$ и $\\mu_2$ нам известны. \n",
    "\n",
    "Первым делом введём слуайную величину $U_1 = \\sum\\limits_{i = 1}^n(\\cfrac{X_i - \\mu_1}{\\sigma_1})^2$. Т.к. выборка распределена по нормальному закону - мы можем сказать, что $U_1 \\sim \\chi^2(n)$. Аналогично для $Y_i$ вводим случайную величину $U_2$\n",
    "\n",
    "По определению распределения Фишера получаем, что $$\\cfrac{U_2 / m}{U_1 / n} \\sim F(m, n)$$ расписываем отношение и получаем: \n",
    "$$\\cfrac{n\\sum\\limits_{j = 1}^m(Y_j - \\mu_2)^2}{m\\sum\\limits_{i = 1}^n(X_i - \\mu_1)^2}\\tau \\sim F(m, n)$$\n",
    "\n",
    "Теперь мы можем посчитать доверительный ряд: $$P(q_{\\frac{\\alpha}{2}} \\leq \\cfrac{n\\sum\\limits_{j = 1}^m(Y_j - \\mu_2)^2}{m\\sum\\limits_{i = 1}^n(X_i - \\mu_1)^2}\\tau \\leq q_{1 - \\frac{\\alpha}{2}}) = 1 - \\alpha$$\n",
    "\n",
    "Таким образом, доверительный интервал будет иметь следующий вид: \n",
    "$$\\tau \\in \\Bigg[ q_{\\frac{\\alpha}{2}}\\cfrac{m\\sum\\limits_{i = 1}^n(X_i - \\mu_1)^2}{n\\sum\\limits_{j = 1}^m(Y_j - \\mu_2)^2}; q_{1 - \\frac{\\alpha}{2}}\\cfrac{m\\sum\\limits_{i = 1}^n(X_i - \\mu_1)^2}{n\\sum\\limits_{j = 1}^m(Y_j - \\mu_2)^2} \\Bigg]$$"
   ],
   "metadata": {
    "collapsed": false
   },
   "id": "29ef493eff05e1ad"
  },
  {
   "cell_type": "markdown",
   "source": [
    "### Эксперименты\n",
    "Напишем класс-генератор выборок:"
   ],
   "metadata": {
    "collapsed": false
   },
   "id": "b7f27792fd563e8c"
  },
  {
   "cell_type": "code",
   "execution_count": 68,
   "id": "initial_id",
   "metadata": {
    "collapsed": true,
    "ExecuteTime": {
     "end_time": "2023-11-04T18:08:19.285615300Z",
     "start_time": "2023-11-04T18:08:19.229507800Z"
    }
   },
   "outputs": [],
   "source": [
    "class NormalDistributionSamples:\n",
    "    def __init__(self, mu1, sigma1, sz1, mu2, sigma2, sz2, alpha):\n",
    "        self.X = []\n",
    "        self.Y = []\n",
    "        self.l_int = None\n",
    "        self.r_int = None\n",
    "        self.total_count = 0\n",
    "        self.not_covers_count = 0\n",
    "        self.mu1 = mu1\n",
    "        self.sigma1 = sigma1\n",
    "        self.sz1 = sz1\n",
    "        self.mu2 = mu2\n",
    "        self.sigma2 = sigma2\n",
    "        self.sz2 = sz2\n",
    "        self.alpha = alpha\n",
    "        self.q1 = sc.stats.f.ppf(alpha / 2, sz2, sz1)\n",
    "        self.q2 = sc.stats.f.ppf(1 - alpha / 2, sz2, sz1)\n",
    "        self.tau = sigma1 / sigma2\n",
    "    \n",
    "    def generate_samples(self):\n",
    "        self.total_count += 1\n",
    "        self.X = sc.stats.norm.rvs(loc=self.mu1, scale=sqrt(self.sigma1), size=self.sz1)\n",
    "        self.Y = sc.stats.norm.rvs(loc=self.mu2, scale=sqrt(self.sigma2), size=self.sz2)\n",
    "        \n",
    "    def count_interval(self):\n",
    "        a = self.sz2 * sum(map(lambda x: (x - self.mu1) ** 2, self.X))\n",
    "        b = self.sz1 * sum(map(lambda y: (y - self.mu2) ** 2, self.Y))\n",
    "        fvalue = a / b\n",
    "        self.l_int = self.q1 * fvalue\n",
    "        self.r_int = self.q2 * fvalue\n",
    "        \n",
    "    def check_tau(self):\n",
    "        if not (self.l_int < self.tau < self.r_int):\n",
    "            self.not_covers_count += 1\n",
    "            \n",
    "    def show_error(self):\n",
    "        print(\"After\", self.total_count, \"samples, the tau went outside\")\n",
    "        print(\"Total:\", self.not_covers_count)\n",
    "        print(\"%:\", (self.not_covers_count / self.total_count) * 100)"
   ]
  },
  {
   "cell_type": "markdown",
   "source": [
    "Сначала попробуем посчитать интервал для размера выборок 25. Параметрами возьмём $\\mu_1 = \\mu_2 = 0, \\sigma_1^2 = 2, \\sigma_2^2 = 1$. Считаем 95% доверительный интервал"
   ],
   "metadata": {
    "collapsed": false
   },
   "id": "4f970933474b40f5"
  },
  {
   "cell_type": "code",
   "execution_count": 69,
   "outputs": [],
   "source": [
    "def perform_test(repeats, distr_sizes):\n",
    "    tester = NormalDistributionSamples(0, 2, distr_sizes, 0, 1, distr_sizes, 0.05)\n",
    "    for i in range(repeats):\n",
    "        tester.generate_samples()\n",
    "        tester.count_interval()\n",
    "        tester.check_tau()\n",
    "        \n",
    "    tester.show_error()"
   ],
   "metadata": {
    "collapsed": false,
    "ExecuteTime": {
     "end_time": "2023-11-04T18:08:19.285615300Z",
     "start_time": "2023-11-04T18:08:19.261513800Z"
    }
   },
   "id": "7b2e84f4b7ab681e"
  },
  {
   "cell_type": "code",
   "execution_count": 72,
   "outputs": [
    {
     "name": "stdout",
     "output_type": "stream",
     "text": [
      "After 1000 samples, the tau went outside\n",
      "Total: 47\n",
      "%: 4.7\n"
     ]
    }
   ],
   "source": [
    "perform_test(1000, 25)"
   ],
   "metadata": {
    "collapsed": false,
    "ExecuteTime": {
     "end_time": "2023-11-04T18:08:30.215421900Z",
     "start_time": "2023-11-04T18:08:30.111167400Z"
    }
   },
   "id": "4a96fc3ecdec3f37"
  },
  {
   "cell_type": "code",
   "execution_count": 71,
   "outputs": [
    {
     "name": "stdout",
     "output_type": "stream",
     "text": [
      "After 1000 samples, the tau went outside\n",
      "Total: 58\n",
      "%: 5.800000000000001\n"
     ]
    }
   ],
   "source": [
    "perform_test(1000, 10000)"
   ],
   "metadata": {
    "collapsed": false,
    "ExecuteTime": {
     "end_time": "2023-11-04T18:08:30.093471200Z",
     "start_time": "2023-11-04T18:08:19.457456300Z"
    }
   },
   "id": "b74af3a56d5e4d2"
  },
  {
   "cell_type": "markdown",
   "source": [
    "Таким образом, в обоих случаях процент ошибок составил приблизительно $5$ процентов и размер выборки на это не повлиял. Объяснить это можно тем, что мы буквально по определению находим интервал такой, что $P(\\tau \\in [T_1, T_2]) \\geq 0.95$"
   ],
   "metadata": {
    "collapsed": false
   },
   "id": "5c7a70e129687bcd"
  }
 ],
 "metadata": {
  "kernelspec": {
   "display_name": "Python 3",
   "language": "python",
   "name": "python3"
  },
  "language_info": {
   "codemirror_mode": {
    "name": "ipython",
    "version": 2
   },
   "file_extension": ".py",
   "mimetype": "text/x-python",
   "name": "python",
   "nbconvert_exporter": "python",
   "pygments_lexer": "ipython2",
   "version": "2.7.6"
  }
 },
 "nbformat": 4,
 "nbformat_minor": 5
}
