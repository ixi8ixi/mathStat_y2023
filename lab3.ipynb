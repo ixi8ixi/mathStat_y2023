{
 "cells": [
  {
   "cell_type": "markdown",
   "source": [
    "<center>Национальный исследовательский университет ИТМО<br/>Факультет информационных технологий и программирования<br/>Прикладная математика и информатика</center>\n",
    "\n",
    "## <center>Математическая статистика</center>\n",
    "### <center>Отчёт по лабораторной работе №3</center>\n",
    "\n",
    "<div style=\"text-align: right\"><b>Работу выполнили:</b><br/>Белоцерковченко Андрей M3337<br/>Смирнов Андрей M3337<br/</div>\n",
    "\n",
    "<center>Санкт-Петербург<br/>2023</center>"
   ],
   "metadata": {
    "collapsed": false
   },
   "id": "b9ae0ae1bddb847e"
  },
  {
   "cell_type": "code",
   "execution_count": 17,
   "outputs": [],
   "source": [
    "import numpy as np\n",
    "import scipy as sc\n",
    "from math import sqrt"
   ],
   "metadata": {
    "collapsed": false,
    "ExecuteTime": {
     "end_time": "2023-11-04T17:25:37.737561700Z",
     "start_time": "2023-11-04T17:25:37.689234900Z"
    }
   },
   "id": "304558739731fbb4"
  },
  {
   "cell_type": "markdown",
   "source": [
    "## Доверительный интервал уровня $1 - \\alpha$\n",
    "### Теория\n",
    "\n",
    "Есть две выборки $X_1, X_2 \\dots X_n \\sim N(\\mu_1, \\sigma_1^2)$ и $Y_1, Y_2 \\dots Y_m \\sim N(\\mu_2, \\sigma_2^2)$. Оцениваем $\\theta = \\cfrac{\\sigma_1^2}{\\sigma_2^2}$, при этом $\\mu_1$ и $\\mu_2$ нам известны. \n",
    "\n",
    "Первым делом введём слуайную величину $U_1 = \\sum\\limits_{i = 1}^n(\\cfrac{X_i - \\mu_1}{\\sigma_1})^2$. Т.к. выборка распределена по нормальному закону - мы можем сказать, что $U_1 \\sim \\chi^2(n)$. Аналогично для $Y_i$ вводим случайную величину $U_2$\n",
    "\n",
    "По определению распределения Фишера получаем, что $$\\cfrac{U_2 / m}{U_1 / n} \\sim F(m, n)$$ расписываем отношение и получаем: \n",
    "$$\\cfrac{n\\sum\\limits_{j = 1}^m(Y_j - \\mu_2)^2}{m\\sum\\limits_{i = 1}^n(X_i - \\mu_1)^2}\\tau \\sim F(m, n)$$\n",
    "\n",
    "Теперь мы можем посчитать доверительный ряд: $$P(q_{\\frac{\\alpha}{2}} \\leq \\cfrac{n\\sum\\limits_{j = 1}^m(Y_j - \\mu_2)^2}{m\\sum\\limits_{i = 1}^n(X_i - \\mu_1)^2}\\tau \\leq q_{1 - \\frac{\\alpha}{2}}) = 1 - \\alpha$$\n",
    "\n",
    "Таким образом, доверительный интервал будет иметь следующий вид: \n",
    "$$\\tau \\in \\Bigg[ q_{\\frac{\\alpha}{2}}\\cfrac{m\\sum\\limits_{i = 1}^n(X_i - \\mu_1)^2}{n\\sum\\limits_{j = 1}^m(Y_j - \\mu_2)^2}; q_{1 - \\frac{\\alpha}{2}}\\cfrac{m\\sum\\limits_{i = 1}^n(X_i - \\mu_1)^2}{n\\sum\\limits_{j = 1}^m(Y_j - \\mu_2)^2} \\Bigg]$$"
   ],
   "metadata": {
    "collapsed": false
   },
   "id": "29ef493eff05e1ad"
  },
  {
   "cell_type": "markdown",
   "source": [
    "### Эксперименты\n",
    "Напишем класс-генератор выборок:"
   ],
   "metadata": {
    "collapsed": false
   },
   "id": "b7f27792fd563e8c"
  },
  {
   "cell_type": "code",
   "execution_count": 26,
   "id": "initial_id",
   "metadata": {
    "collapsed": true,
    "ExecuteTime": {
     "end_time": "2023-11-04T17:30:16.410830600Z",
     "start_time": "2023-11-04T17:30:16.370840200Z"
    }
   },
   "outputs": [],
   "source": [
    "class NormalDistributionSamples:\n",
    "    def __init__(self, mu1, sigma1, sz1, mu2, sigma2, sz2, alpha):\n",
    "        self.X = []\n",
    "        self.Y = []\n",
    "        self.l_int = None\n",
    "        self.r_int = None\n",
    "        self.outliers_count = 0\n",
    "        self.mu1 = mu1\n",
    "        self.sigma1 = sigma1\n",
    "        self.sz1 = sz1\n",
    "        self.mu2 = mu2\n",
    "        self.sigma2 = sigma2\n",
    "        self.sz2 = sz2\n",
    "        self.alpha = alpha\n",
    "        self.q1 = sc.stats.f.ppf(alpha / 2, sz2, sz1)\n",
    "        self.q2 = sc.stats.f.ppf(1 - alpha / 2, sz2, sz1)\n",
    "        self.tau = sigma1 / sigma2\n",
    "    \n",
    "    def generate_samples(self):\n",
    "        self.X = sc.stats.norm.rvs(loc=self.mu1, scale=sqrt(self.sigma1), size=self.sz1)\n",
    "        self.Y = sc.stats.norm.rvs(loc=self.mu2, scale=sqrt(self.sigma2), size=self.sz2)\n",
    "        \n",
    "    def count_interval(self):\n",
    "        a = self.sz2 * sum(map(lambda x: (x - self.mu1) ** 2, self.X))\n",
    "        b = self.sz1 * sum(map(lambda y: (y - self.mu2) ** 2, self.Y))\n",
    "        fvalue = a / b\n",
    "        self.l_int = self.q1 * fvalue\n",
    "        self.r_int = self.q2 * fvalue\n",
    "        \n",
    "    def show_q(self):\n",
    "        print(sqrt(self.sigma1))\n",
    "        print(sqrt(self.sigma2))\n",
    "        print(self.X)\n",
    "        print(self.Y)\n",
    "        print(self.q1, self.q2)"
   ]
  },
  {
   "cell_type": "code",
   "execution_count": 28,
   "outputs": [
    {
     "name": "stdout",
     "output_type": "stream",
     "text": [
      "1.4142135623730951\n",
      "1.0\n",
      "[-1.12261676  0.79668599 -0.85686263  1.02272439  1.17361091 -1.70500173\n",
      " -1.63633982  1.11778102  0.27244849 -1.66967497  3.16883411 -1.96027745\n",
      " -0.0101092  -2.21746267 -2.91848485 -0.51933611 -2.99780507 -1.22763072\n",
      "  0.77249514 -0.43302647 -0.63139754 -0.08000266  1.05224424  0.77619088\n",
      " -0.59216862]\n",
      "[ 0.90906736 -0.37320091 -0.9529387  -0.81226231 -0.91411424 -2.58973188\n",
      "  0.97246225  0.66059993 -0.65495044 -0.45746022 -1.22588513  0.74683912\n",
      " -0.06266284  1.19753521  0.01392363  0.29776271 -0.34943396 -0.49231054\n",
      "  1.02627548 -0.16542649  0.93269073  1.43189757  0.27998638 -0.13444023\n",
      "  1.34692512]\n",
      "0.44836975329719714 2.2303020947471466\n"
     ]
    }
   ],
   "source": [
    "sg = NormalDistributionSamples(0, 2, 25, 0, 1, 25, 0.05)\n",
    "sg.generate_samples()\n",
    "sg.show_q()"
   ],
   "metadata": {
    "collapsed": false,
    "ExecuteTime": {
     "end_time": "2023-11-04T17:30:52.025988Z",
     "start_time": "2023-11-04T17:30:51.992429400Z"
    }
   },
   "id": "4a96fc3ecdec3f37"
  }
 ],
 "metadata": {
  "kernelspec": {
   "display_name": "Python 3",
   "language": "python",
   "name": "python3"
  },
  "language_info": {
   "codemirror_mode": {
    "name": "ipython",
    "version": 2
   },
   "file_extension": ".py",
   "mimetype": "text/x-python",
   "name": "python",
   "nbconvert_exporter": "python",
   "pygments_lexer": "ipython2",
   "version": "2.7.6"
  }
 },
 "nbformat": 4,
 "nbformat_minor": 5
}
